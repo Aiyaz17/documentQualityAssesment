{
 "cells": [
  {
   "cell_type": "code",
   "execution_count": 2,
   "id": "3cded3cf",
   "metadata": {},
   "outputs": [],
   "source": [
    "import pandas as pd\n",
    "import numpy as np\n",
    "from sklearn import preprocessing, model_selection\n",
    "from sklearn import svm\n",
    "from sklearn.neighbors import KNeighborsClassifier\n",
    "\n"
   ]
  },
  {
   "cell_type": "code",
   "execution_count": 3,
   "id": "77560832",
   "metadata": {},
   "outputs": [],
   "source": [
    "df=pd.read_excel(\"datasetfinal2.xlsx\")"
   ]
  },
  {
   "cell_type": "code",
   "execution_count": 4,
   "id": "88d7c0d4",
   "metadata": {},
   "outputs": [
    {
     "data": {
      "text/html": [
       "<div>\n",
       "<style scoped>\n",
       "    .dataframe tbody tr th:only-of-type {\n",
       "        vertical-align: middle;\n",
       "    }\n",
       "\n",
       "    .dataframe tbody tr th {\n",
       "        vertical-align: top;\n",
       "    }\n",
       "\n",
       "    .dataframe thead th {\n",
       "        text-align: right;\n",
       "    }\n",
       "</style>\n",
       "<table border=\"1\" class=\"dataframe\">\n",
       "  <thead>\n",
       "    <tr style=\"text-align: right;\">\n",
       "      <th></th>\n",
       "      <th>Label</th>\n",
       "      <th>Brightness</th>\n",
       "      <th>Threshold Value</th>\n",
       "      <th>Contrast</th>\n",
       "      <th>Sharpness</th>\n",
       "      <th>Noise</th>\n",
       "      <th>Resolution</th>\n",
       "      <th>Blurriness</th>\n",
       "    </tr>\n",
       "  </thead>\n",
       "  <tbody>\n",
       "    <tr>\n",
       "      <th>0</th>\n",
       "      <td>Very Good</td>\n",
       "      <td>247.589514</td>\n",
       "      <td>18.0</td>\n",
       "      <td>13421.053933</td>\n",
       "      <td>247.008685</td>\n",
       "      <td>2.006223</td>\n",
       "      <td>861696</td>\n",
       "      <td>13421.053933</td>\n",
       "    </tr>\n",
       "    <tr>\n",
       "      <th>1</th>\n",
       "      <td>Very Good</td>\n",
       "      <td>174.469639</td>\n",
       "      <td>115.0</td>\n",
       "      <td>195.033346</td>\n",
       "      <td>172.934790</td>\n",
       "      <td>5.602058</td>\n",
       "      <td>3145728</td>\n",
       "      <td>195.033346</td>\n",
       "    </tr>\n",
       "    <tr>\n",
       "      <th>2</th>\n",
       "      <td>Very Good</td>\n",
       "      <td>200.769554</td>\n",
       "      <td>173.0</td>\n",
       "      <td>12.291413</td>\n",
       "      <td>201.863559</td>\n",
       "      <td>1.794257</td>\n",
       "      <td>14065000</td>\n",
       "      <td>12.291413</td>\n",
       "    </tr>\n",
       "    <tr>\n",
       "      <th>3</th>\n",
       "      <td>Very Good</td>\n",
       "      <td>244.170280</td>\n",
       "      <td>179.0</td>\n",
       "      <td>2198.333755</td>\n",
       "      <td>245.149050</td>\n",
       "      <td>7.769843</td>\n",
       "      <td>1036288</td>\n",
       "      <td>2198.333755</td>\n",
       "    </tr>\n",
       "    <tr>\n",
       "      <th>4</th>\n",
       "      <td>Very Good</td>\n",
       "      <td>236.499230</td>\n",
       "      <td>143.0</td>\n",
       "      <td>22239.298024</td>\n",
       "      <td>233.968363</td>\n",
       "      <td>12.832210</td>\n",
       "      <td>356928</td>\n",
       "      <td>22239.298024</td>\n",
       "    </tr>\n",
       "  </tbody>\n",
       "</table>\n",
       "</div>"
      ],
      "text/plain": [
       "       Label  Brightness  Threshold Value      Contrast   Sharpness  \\\n",
       "0  Very Good  247.589514             18.0  13421.053933  247.008685   \n",
       "1  Very Good  174.469639            115.0    195.033346  172.934790   \n",
       "2  Very Good  200.769554            173.0     12.291413  201.863559   \n",
       "3  Very Good  244.170280            179.0   2198.333755  245.149050   \n",
       "4  Very Good  236.499230            143.0  22239.298024  233.968363   \n",
       "\n",
       "       Noise  Resolution    Blurriness  \n",
       "0   2.006223      861696  13421.053933  \n",
       "1   5.602058     3145728    195.033346  \n",
       "2   1.794257    14065000     12.291413  \n",
       "3   7.769843     1036288   2198.333755  \n",
       "4  12.832210      356928  22239.298024  "
      ]
     },
     "execution_count": 4,
     "metadata": {},
     "output_type": "execute_result"
    }
   ],
   "source": [
    "df.head()"
   ]
  },
  {
   "cell_type": "code",
   "execution_count": 5,
   "id": "526e7364",
   "metadata": {},
   "outputs": [
    {
     "data": {
      "text/plain": [
       "0"
      ]
     },
     "execution_count": 5,
     "metadata": {},
     "output_type": "execute_result"
    }
   ],
   "source": [
    "df.isna().sum().sum()\n"
   ]
  },
  {
   "cell_type": "code",
   "execution_count": 6,
   "id": "2e30c663",
   "metadata": {},
   "outputs": [
    {
     "data": {
      "text/plain": [
       "array(['Very Good', 'Good', 'Bad', 'Very Bad'], dtype=object)"
      ]
     },
     "execution_count": 6,
     "metadata": {},
     "output_type": "execute_result"
    }
   ],
   "source": [
    "df[\"Label\"].unique()\n"
   ]
  },
  {
   "cell_type": "code",
   "execution_count": 7,
   "id": "51f782e7",
   "metadata": {},
   "outputs": [],
   "source": [
    "a=[]\n",
    "for i in range(5):\n",
    "    a.append(i)\n",
    "label_dict=dict(zip(df[\"Label\"].unique(),a))"
   ]
  },
  {
   "cell_type": "code",
   "execution_count": 8,
   "id": "a6a7c89c",
   "metadata": {},
   "outputs": [
    {
     "data": {
      "text/plain": [
       "{'Very Good': 0, 'Good': 1, 'Bad': 2, 'Very Bad': 3}"
      ]
     },
     "execution_count": 8,
     "metadata": {},
     "output_type": "execute_result"
    }
   ],
   "source": [
    "label_dict"
   ]
  },
  {
   "cell_type": "code",
   "execution_count": 9,
   "id": "97b33485",
   "metadata": {},
   "outputs": [],
   "source": [
    "df[\"Label\"]=df[\"Label\"].map(label_dict)"
   ]
  },
  {
   "cell_type": "code",
   "execution_count": 10,
   "id": "7834d372",
   "metadata": {},
   "outputs": [
    {
     "data": {
      "text/html": [
       "<div>\n",
       "<style scoped>\n",
       "    .dataframe tbody tr th:only-of-type {\n",
       "        vertical-align: middle;\n",
       "    }\n",
       "\n",
       "    .dataframe tbody tr th {\n",
       "        vertical-align: top;\n",
       "    }\n",
       "\n",
       "    .dataframe thead th {\n",
       "        text-align: right;\n",
       "    }\n",
       "</style>\n",
       "<table border=\"1\" class=\"dataframe\">\n",
       "  <thead>\n",
       "    <tr style=\"text-align: right;\">\n",
       "      <th></th>\n",
       "      <th>Label</th>\n",
       "      <th>Brightness</th>\n",
       "      <th>Threshold Value</th>\n",
       "      <th>Contrast</th>\n",
       "      <th>Sharpness</th>\n",
       "      <th>Noise</th>\n",
       "      <th>Resolution</th>\n",
       "      <th>Blurriness</th>\n",
       "    </tr>\n",
       "  </thead>\n",
       "  <tbody>\n",
       "    <tr>\n",
       "      <th>0</th>\n",
       "      <td>0</td>\n",
       "      <td>247.589514</td>\n",
       "      <td>18.0</td>\n",
       "      <td>13421.053933</td>\n",
       "      <td>247.008685</td>\n",
       "      <td>2.006223</td>\n",
       "      <td>861696</td>\n",
       "      <td>13421.053933</td>\n",
       "    </tr>\n",
       "    <tr>\n",
       "      <th>1</th>\n",
       "      <td>0</td>\n",
       "      <td>174.469639</td>\n",
       "      <td>115.0</td>\n",
       "      <td>195.033346</td>\n",
       "      <td>172.934790</td>\n",
       "      <td>5.602058</td>\n",
       "      <td>3145728</td>\n",
       "      <td>195.033346</td>\n",
       "    </tr>\n",
       "    <tr>\n",
       "      <th>2</th>\n",
       "      <td>0</td>\n",
       "      <td>200.769554</td>\n",
       "      <td>173.0</td>\n",
       "      <td>12.291413</td>\n",
       "      <td>201.863559</td>\n",
       "      <td>1.794257</td>\n",
       "      <td>14065000</td>\n",
       "      <td>12.291413</td>\n",
       "    </tr>\n",
       "    <tr>\n",
       "      <th>3</th>\n",
       "      <td>0</td>\n",
       "      <td>244.170280</td>\n",
       "      <td>179.0</td>\n",
       "      <td>2198.333755</td>\n",
       "      <td>245.149050</td>\n",
       "      <td>7.769843</td>\n",
       "      <td>1036288</td>\n",
       "      <td>2198.333755</td>\n",
       "    </tr>\n",
       "    <tr>\n",
       "      <th>4</th>\n",
       "      <td>0</td>\n",
       "      <td>236.499230</td>\n",
       "      <td>143.0</td>\n",
       "      <td>22239.298024</td>\n",
       "      <td>233.968363</td>\n",
       "      <td>12.832210</td>\n",
       "      <td>356928</td>\n",
       "      <td>22239.298024</td>\n",
       "    </tr>\n",
       "    <tr>\n",
       "      <th>...</th>\n",
       "      <td>...</td>\n",
       "      <td>...</td>\n",
       "      <td>...</td>\n",
       "      <td>...</td>\n",
       "      <td>...</td>\n",
       "      <td>...</td>\n",
       "      <td>...</td>\n",
       "      <td>...</td>\n",
       "    </tr>\n",
       "    <tr>\n",
       "      <th>490</th>\n",
       "      <td>3</td>\n",
       "      <td>55.905648</td>\n",
       "      <td>68.0</td>\n",
       "      <td>1.853392</td>\n",
       "      <td>55.966162</td>\n",
       "      <td>0.658884</td>\n",
       "      <td>3867052</td>\n",
       "      <td>1.853392</td>\n",
       "    </tr>\n",
       "    <tr>\n",
       "      <th>491</th>\n",
       "      <td>3</td>\n",
       "      <td>254.992383</td>\n",
       "      <td>247.0</td>\n",
       "      <td>0.131091</td>\n",
       "      <td>254.963570</td>\n",
       "      <td>0.027971</td>\n",
       "      <td>3867052</td>\n",
       "      <td>0.131091</td>\n",
       "    </tr>\n",
       "    <tr>\n",
       "      <th>492</th>\n",
       "      <td>3</td>\n",
       "      <td>245.512947</td>\n",
       "      <td>210.0</td>\n",
       "      <td>8.138838</td>\n",
       "      <td>244.781521</td>\n",
       "      <td>1.826398</td>\n",
       "      <td>3877380</td>\n",
       "      <td>8.138838</td>\n",
       "    </tr>\n",
       "    <tr>\n",
       "      <th>493</th>\n",
       "      <td>3</td>\n",
       "      <td>225.101932</td>\n",
       "      <td>195.0</td>\n",
       "      <td>700.156802</td>\n",
       "      <td>222.339687</td>\n",
       "      <td>19.116102</td>\n",
       "      <td>1946341</td>\n",
       "      <td>700.156802</td>\n",
       "    </tr>\n",
       "    <tr>\n",
       "      <th>494</th>\n",
       "      <td>3</td>\n",
       "      <td>213.196358</td>\n",
       "      <td>192.0</td>\n",
       "      <td>248.670901</td>\n",
       "      <td>210.437213</td>\n",
       "      <td>22.621782</td>\n",
       "      <td>1657152</td>\n",
       "      <td>248.670901</td>\n",
       "    </tr>\n",
       "  </tbody>\n",
       "</table>\n",
       "<p>495 rows × 8 columns</p>\n",
       "</div>"
      ],
      "text/plain": [
       "     Label  Brightness  Threshold Value      Contrast   Sharpness      Noise  \\\n",
       "0        0  247.589514             18.0  13421.053933  247.008685   2.006223   \n",
       "1        0  174.469639            115.0    195.033346  172.934790   5.602058   \n",
       "2        0  200.769554            173.0     12.291413  201.863559   1.794257   \n",
       "3        0  244.170280            179.0   2198.333755  245.149050   7.769843   \n",
       "4        0  236.499230            143.0  22239.298024  233.968363  12.832210   \n",
       "..     ...         ...              ...           ...         ...        ...   \n",
       "490      3   55.905648             68.0      1.853392   55.966162   0.658884   \n",
       "491      3  254.992383            247.0      0.131091  254.963570   0.027971   \n",
       "492      3  245.512947            210.0      8.138838  244.781521   1.826398   \n",
       "493      3  225.101932            195.0    700.156802  222.339687  19.116102   \n",
       "494      3  213.196358            192.0    248.670901  210.437213  22.621782   \n",
       "\n",
       "     Resolution    Blurriness  \n",
       "0        861696  13421.053933  \n",
       "1       3145728    195.033346  \n",
       "2      14065000     12.291413  \n",
       "3       1036288   2198.333755  \n",
       "4        356928  22239.298024  \n",
       "..          ...           ...  \n",
       "490     3867052      1.853392  \n",
       "491     3867052      0.131091  \n",
       "492     3877380      8.138838  \n",
       "493     1946341    700.156802  \n",
       "494     1657152    248.670901  \n",
       "\n",
       "[495 rows x 8 columns]"
      ]
     },
     "execution_count": 10,
     "metadata": {},
     "output_type": "execute_result"
    }
   ],
   "source": [
    "df"
   ]
  },
  {
   "cell_type": "code",
   "execution_count": 11,
   "id": "2138804b",
   "metadata": {},
   "outputs": [
    {
     "name": "stderr",
     "output_type": "stream",
     "text": [
      "C:\\Users\\Asus\\AppData\\Local\\Temp\\ipykernel_22152\\1307175940.py:1: FutureWarning: In a future version of pandas all arguments of DataFrame.drop except for the argument 'labels' will be keyword-only.\n",
      "  X=np.array(df.drop([\"Label\"],1))\n"
     ]
    }
   ],
   "source": [
    "X=np.array(df.drop([\"Label\"],1))\n",
    "y=np.array(df[\"Label\"])"
   ]
  },
  {
   "cell_type": "code",
   "execution_count": 12,
   "id": "71d8e964",
   "metadata": {},
   "outputs": [
    {
     "name": "stdout",
     "output_type": "stream",
     "text": [
      "(495, 7)\n",
      "(495,)\n"
     ]
    }
   ],
   "source": [
    "print(X.shape)\n",
    "print(y.shape)"
   ]
  },
  {
   "cell_type": "code",
   "execution_count": 40,
   "id": "b4950af0",
   "metadata": {},
   "outputs": [],
   "source": [
    "X_train,X_test,y_train,y_test=model_selection.train_test_split(X,y,test_size=0.2)\n"
   ]
  },
  {
   "cell_type": "code",
   "execution_count": 30,
   "id": "519fdd21",
   "metadata": {},
   "outputs": [],
   "source": [
    "# cf=svm.SVC(kernel=\"linear\")\n",
    "cf=KNeighborsClassifier()\n"
   ]
  },
  {
   "cell_type": "code",
   "execution_count": 31,
   "id": "92cba676",
   "metadata": {},
   "outputs": [
    {
     "data": {
      "text/html": [
       "<style>#sk-container-id-3 {color: black;background-color: white;}#sk-container-id-3 pre{padding: 0;}#sk-container-id-3 div.sk-toggleable {background-color: white;}#sk-container-id-3 label.sk-toggleable__label {cursor: pointer;display: block;width: 100%;margin-bottom: 0;padding: 0.3em;box-sizing: border-box;text-align: center;}#sk-container-id-3 label.sk-toggleable__label-arrow:before {content: \"▸\";float: left;margin-right: 0.25em;color: #696969;}#sk-container-id-3 label.sk-toggleable__label-arrow:hover:before {color: black;}#sk-container-id-3 div.sk-estimator:hover label.sk-toggleable__label-arrow:before {color: black;}#sk-container-id-3 div.sk-toggleable__content {max-height: 0;max-width: 0;overflow: hidden;text-align: left;background-color: #f0f8ff;}#sk-container-id-3 div.sk-toggleable__content pre {margin: 0.2em;color: black;border-radius: 0.25em;background-color: #f0f8ff;}#sk-container-id-3 input.sk-toggleable__control:checked~div.sk-toggleable__content {max-height: 200px;max-width: 100%;overflow: auto;}#sk-container-id-3 input.sk-toggleable__control:checked~label.sk-toggleable__label-arrow:before {content: \"▾\";}#sk-container-id-3 div.sk-estimator input.sk-toggleable__control:checked~label.sk-toggleable__label {background-color: #d4ebff;}#sk-container-id-3 div.sk-label input.sk-toggleable__control:checked~label.sk-toggleable__label {background-color: #d4ebff;}#sk-container-id-3 input.sk-hidden--visually {border: 0;clip: rect(1px 1px 1px 1px);clip: rect(1px, 1px, 1px, 1px);height: 1px;margin: -1px;overflow: hidden;padding: 0;position: absolute;width: 1px;}#sk-container-id-3 div.sk-estimator {font-family: monospace;background-color: #f0f8ff;border: 1px dotted black;border-radius: 0.25em;box-sizing: border-box;margin-bottom: 0.5em;}#sk-container-id-3 div.sk-estimator:hover {background-color: #d4ebff;}#sk-container-id-3 div.sk-parallel-item::after {content: \"\";width: 100%;border-bottom: 1px solid gray;flex-grow: 1;}#sk-container-id-3 div.sk-label:hover label.sk-toggleable__label {background-color: #d4ebff;}#sk-container-id-3 div.sk-serial::before {content: \"\";position: absolute;border-left: 1px solid gray;box-sizing: border-box;top: 0;bottom: 0;left: 50%;z-index: 0;}#sk-container-id-3 div.sk-serial {display: flex;flex-direction: column;align-items: center;background-color: white;padding-right: 0.2em;padding-left: 0.2em;position: relative;}#sk-container-id-3 div.sk-item {position: relative;z-index: 1;}#sk-container-id-3 div.sk-parallel {display: flex;align-items: stretch;justify-content: center;background-color: white;position: relative;}#sk-container-id-3 div.sk-item::before, #sk-container-id-3 div.sk-parallel-item::before {content: \"\";position: absolute;border-left: 1px solid gray;box-sizing: border-box;top: 0;bottom: 0;left: 50%;z-index: -1;}#sk-container-id-3 div.sk-parallel-item {display: flex;flex-direction: column;z-index: 1;position: relative;background-color: white;}#sk-container-id-3 div.sk-parallel-item:first-child::after {align-self: flex-end;width: 50%;}#sk-container-id-3 div.sk-parallel-item:last-child::after {align-self: flex-start;width: 50%;}#sk-container-id-3 div.sk-parallel-item:only-child::after {width: 0;}#sk-container-id-3 div.sk-dashed-wrapped {border: 1px dashed gray;margin: 0 0.4em 0.5em 0.4em;box-sizing: border-box;padding-bottom: 0.4em;background-color: white;}#sk-container-id-3 div.sk-label label {font-family: monospace;font-weight: bold;display: inline-block;line-height: 1.2em;}#sk-container-id-3 div.sk-label-container {text-align: center;}#sk-container-id-3 div.sk-container {/* jupyter's `normalize.less` sets `[hidden] { display: none; }` but bootstrap.min.css set `[hidden] { display: none !important; }` so we also need the `!important` here to be able to override the default hidden behavior on the sphinx rendered scikit-learn.org. See: https://github.com/scikit-learn/scikit-learn/issues/21755 */display: inline-block !important;position: relative;}#sk-container-id-3 div.sk-text-repr-fallback {display: none;}</style><div id=\"sk-container-id-3\" class=\"sk-top-container\"><div class=\"sk-text-repr-fallback\"><pre>KNeighborsClassifier()</pre><b>In a Jupyter environment, please rerun this cell to show the HTML representation or trust the notebook. <br />On GitHub, the HTML representation is unable to render, please try loading this page with nbviewer.org.</b></div><div class=\"sk-container\" hidden><div class=\"sk-item\"><div class=\"sk-estimator sk-toggleable\"><input class=\"sk-toggleable__control sk-hidden--visually\" id=\"sk-estimator-id-3\" type=\"checkbox\" checked><label for=\"sk-estimator-id-3\" class=\"sk-toggleable__label sk-toggleable__label-arrow\">KNeighborsClassifier</label><div class=\"sk-toggleable__content\"><pre>KNeighborsClassifier()</pre></div></div></div></div></div>"
      ],
      "text/plain": [
       "KNeighborsClassifier()"
      ]
     },
     "execution_count": 31,
     "metadata": {},
     "output_type": "execute_result"
    }
   ],
   "source": [
    "cf.fit(X_train,y_train)"
   ]
  },
  {
   "cell_type": "code",
   "execution_count": 32,
   "id": "d943e3e5",
   "metadata": {},
   "outputs": [],
   "source": [
    "acc=cf.score(X_test,y_test)"
   ]
  },
  {
   "cell_type": "code",
   "execution_count": 33,
   "id": "b4cc4092",
   "metadata": {},
   "outputs": [
    {
     "data": {
      "text/plain": [
       "0.8"
      ]
     },
     "execution_count": 33,
     "metadata": {},
     "output_type": "execute_result"
    }
   ],
   "source": [
    "acc"
   ]
  },
  {
   "cell_type": "code",
   "execution_count": 13,
   "id": "a47a6078",
   "metadata": {},
   "outputs": [
    {
     "name": "stderr",
     "output_type": "stream",
     "text": [
      "C:\\Users\\Asus\\AppData\\Local\\Packages\\PythonSoftwareFoundation.Python.3.10_qbz5n2kfra8p0\\LocalCache\\local-packages\\Python310\\site-packages\\sklearn\\linear_model\\_logistic.py:444: ConvergenceWarning: lbfgs failed to converge (status=1):\n",
      "STOP: TOTAL NO. of ITERATIONS REACHED LIMIT.\n",
      "\n",
      "Increase the number of iterations (max_iter) or scale the data as shown in:\n",
      "    https://scikit-learn.org/stable/modules/preprocessing.html\n",
      "Please also refer to the documentation for alternative solver options:\n",
      "    https://scikit-learn.org/stable/modules/linear_model.html#logistic-regression\n",
      "  n_iter_i = _check_optimize_result(\n"
     ]
    },
    {
     "name": "stdout",
     "output_type": "stream",
     "text": [
      "Accuracy of Logistic Regression:  0.5\n",
      "Accuracy of Naive Bayes:  0.74\n",
      "Accuracy of K-Nearest Neighbors:  0.78\n",
      "Accuracy of Decision Tree:  0.64\n",
      "Accuracy of Support Vector Machines:  0.4\n",
      "Accuracy of Ensemble Model:  0.78\n"
     ]
    },
    {
     "name": "stderr",
     "output_type": "stream",
     "text": [
      "C:\\Users\\Asus\\AppData\\Local\\Packages\\PythonSoftwareFoundation.Python.3.10_qbz5n2kfra8p0\\LocalCache\\local-packages\\Python310\\site-packages\\sklearn\\linear_model\\_logistic.py:444: ConvergenceWarning: lbfgs failed to converge (status=1):\n",
      "STOP: TOTAL NO. of ITERATIONS REACHED LIMIT.\n",
      "\n",
      "Increase the number of iterations (max_iter) or scale the data as shown in:\n",
      "    https://scikit-learn.org/stable/modules/preprocessing.html\n",
      "Please also refer to the documentation for alternative solver options:\n",
      "    https://scikit-learn.org/stable/modules/linear_model.html#logistic-regression\n",
      "  n_iter_i = _check_optimize_result(\n"
     ]
    }
   ],
   "source": [
    "# # Importing required libraries\n",
    "# import pandas as pd\n",
    "# import numpy as np\n",
    "# from sklearn.model_selection import train_test_split\n",
    "# from sklearn.linear_model import LogisticRegression\n",
    "# from sklearn.naive_bayes import GaussianNB\n",
    "# from sklearn.neighbors import KNeighborsClassifier\n",
    "# from sklearn.tree import DecisionTreeClassifier\n",
    "# from sklearn.svm import SVC\n",
    "# from sklearn.ensemble import VotingClassifier\n",
    "# from sklearn.metrics import accuracy_score\n",
    "\n",
    "# # Splitting the data into training and testing sets\n",
    "# xtrain, xtest, ytrain, ytest = train_test_split(X, y, test_size=0.1,random_state=0)\n",
    "\n",
    "# # Initializing the classifiers\n",
    "# lr = LogisticRegression()\n",
    "# gnb = GaussianNB()\n",
    "# knn = KNeighborsClassifier()\n",
    "# dt = DecisionTreeClassifier()\n",
    "# svm = SVC(kernel='poly')\n",
    "\n",
    "# # Fitting the classifiers on the training data\n",
    "# lr.fit(xtrain, ytrain)\n",
    "# gnb.fit(xtrain, ytrain)\n",
    "# knn.fit(xtrain, ytrain)\n",
    "# dt.fit(xtrain, ytrain)\n",
    "# svm.fit(xtrain, ytrain)\n",
    "\n",
    "# # Predicting on the test data\n",
    "# y_pred_lr = lr.predict(xtest)\n",
    "# y_pred_gnb = gnb.predict(xtest)\n",
    "# y_pred_knn = knn.predict(xtest)\n",
    "# y_pred_dt = dt.predict(xtest)\n",
    "# y_pred_svm = svm.predict(xtest)\n",
    "\n",
    "# # Evaluating the accuracy of each classifier\n",
    "# print(\"Accuracy of Logistic Regression: \", accuracy_score(ytest, y_pred_lr))\n",
    "# print(\"Accuracy of Naive Bayes: \", accuracy_score(ytest, y_pred_gnb))\n",
    "# print(\"Accuracy of K-Nearest Neighbors: \", accuracy_score(ytest, y_pred_knn))\n",
    "# print(\"Accuracy of Decision Tree: \", accuracy_score(ytest, y_pred_dt))\n",
    "# print(\"Accuracy of Support Vector Machines: \", accuracy_score(ytest, y_pred_svm))\n",
    "\n",
    "# # Using ensemble modeling\n",
    "# voting_clf = VotingClassifier(estimators=[('lr', lr), ('gnb', gnb), ('knn', knn), ('dt', dt), ('svm', svm)], voting='hard')\n",
    "# voting_clf.fit(xtrain, ytrain)\n",
    "# y_pred = voting_clf.predict(xtest)\n",
    "\n",
    "# # Evaluating the accuracy of ensemble model\n",
    "# print(\"Accuracy of Ensemble Model: \", accuracy_score(ytest, y_pred))\n"
   ]
  },
  {
   "cell_type": "code",
   "execution_count": 34,
   "id": "ed162541",
   "metadata": {
    "scrolled": true
   },
   "outputs": [],
   "source": [
    "\n",
    "import os\n",
    "\n",
    "def extract_features(image_path):\n",
    "    # Load the image\n",
    "    image = cv2.imread(image_path)\n",
    "\n",
    "    # Convert the image to grayscale\n",
    "    gray = cv2.cvtColor(image, cv2.COLOR_BGR2GRAY)\n",
    "\n",
    "    # Calculate the histogram of the image\n",
    "    hist = cv2.calcHist([image],[0],None,[256],[0,256])\n",
    "\n",
    "    # Find the threshold value using Otsu's method\n",
    "    threshold_val, threshold_img = cv2.threshold(gray, 0, 255, cv2.THRESH_BINARY + cv2.THRESH_OTSU)\n",
    "\n",
    "    # Get the average brightness of the image\n",
    "    brightness_val = cv2.mean(image)[0]\n",
    "\n",
    "    # Get the contrast of the image\n",
    "    contrast_val = cv2.Laplacian(gray, cv2.CV_64F).var()\n",
    "\n",
    "    # Get the sharpness of the image\n",
    "    kernel = np.array([[-1,-1,-1], [-1,9,-1], [-1,-1,-1]])\n",
    "    sharpness_val = cv2.filter2D(gray, -1, kernel)\n",
    "\n",
    "    # Get the noise of the image\n",
    "    median = cv2.medianBlur(gray, 5)\n",
    "    noise_val = np.mean((gray - median) ** 2)\n",
    "\n",
    "    # Get the resolution of the image\n",
    "    height, width = gray.shape[:2]\n",
    "    resolution_val = height * width\n",
    "\n",
    "    # Get the blurriness of the image\n",
    "    blurriness_val = cv2.Laplacian(gray, cv2.CV_64F).var()\n",
    "\n",
    "    # Return the features as a list\n",
    "    return [brightness_val, threshold_val, contrast_val, np.mean(sharpness_val), noise_val, resolution_val, blurriness_val]"
   ]
  },
  {
   "cell_type": "code",
   "execution_count": 41,
   "id": "0ebcb758",
   "metadata": {},
   "outputs": [],
   "source": [
    "cf2=KNeighborsClassifier()"
   ]
  },
  {
   "cell_type": "code",
   "execution_count": 42,
   "id": "31488803",
   "metadata": {},
   "outputs": [
    {
     "data": {
      "text/html": [
       "<style>#sk-container-id-5 {color: black;background-color: white;}#sk-container-id-5 pre{padding: 0;}#sk-container-id-5 div.sk-toggleable {background-color: white;}#sk-container-id-5 label.sk-toggleable__label {cursor: pointer;display: block;width: 100%;margin-bottom: 0;padding: 0.3em;box-sizing: border-box;text-align: center;}#sk-container-id-5 label.sk-toggleable__label-arrow:before {content: \"▸\";float: left;margin-right: 0.25em;color: #696969;}#sk-container-id-5 label.sk-toggleable__label-arrow:hover:before {color: black;}#sk-container-id-5 div.sk-estimator:hover label.sk-toggleable__label-arrow:before {color: black;}#sk-container-id-5 div.sk-toggleable__content {max-height: 0;max-width: 0;overflow: hidden;text-align: left;background-color: #f0f8ff;}#sk-container-id-5 div.sk-toggleable__content pre {margin: 0.2em;color: black;border-radius: 0.25em;background-color: #f0f8ff;}#sk-container-id-5 input.sk-toggleable__control:checked~div.sk-toggleable__content {max-height: 200px;max-width: 100%;overflow: auto;}#sk-container-id-5 input.sk-toggleable__control:checked~label.sk-toggleable__label-arrow:before {content: \"▾\";}#sk-container-id-5 div.sk-estimator input.sk-toggleable__control:checked~label.sk-toggleable__label {background-color: #d4ebff;}#sk-container-id-5 div.sk-label input.sk-toggleable__control:checked~label.sk-toggleable__label {background-color: #d4ebff;}#sk-container-id-5 input.sk-hidden--visually {border: 0;clip: rect(1px 1px 1px 1px);clip: rect(1px, 1px, 1px, 1px);height: 1px;margin: -1px;overflow: hidden;padding: 0;position: absolute;width: 1px;}#sk-container-id-5 div.sk-estimator {font-family: monospace;background-color: #f0f8ff;border: 1px dotted black;border-radius: 0.25em;box-sizing: border-box;margin-bottom: 0.5em;}#sk-container-id-5 div.sk-estimator:hover {background-color: #d4ebff;}#sk-container-id-5 div.sk-parallel-item::after {content: \"\";width: 100%;border-bottom: 1px solid gray;flex-grow: 1;}#sk-container-id-5 div.sk-label:hover label.sk-toggleable__label {background-color: #d4ebff;}#sk-container-id-5 div.sk-serial::before {content: \"\";position: absolute;border-left: 1px solid gray;box-sizing: border-box;top: 0;bottom: 0;left: 50%;z-index: 0;}#sk-container-id-5 div.sk-serial {display: flex;flex-direction: column;align-items: center;background-color: white;padding-right: 0.2em;padding-left: 0.2em;position: relative;}#sk-container-id-5 div.sk-item {position: relative;z-index: 1;}#sk-container-id-5 div.sk-parallel {display: flex;align-items: stretch;justify-content: center;background-color: white;position: relative;}#sk-container-id-5 div.sk-item::before, #sk-container-id-5 div.sk-parallel-item::before {content: \"\";position: absolute;border-left: 1px solid gray;box-sizing: border-box;top: 0;bottom: 0;left: 50%;z-index: -1;}#sk-container-id-5 div.sk-parallel-item {display: flex;flex-direction: column;z-index: 1;position: relative;background-color: white;}#sk-container-id-5 div.sk-parallel-item:first-child::after {align-self: flex-end;width: 50%;}#sk-container-id-5 div.sk-parallel-item:last-child::after {align-self: flex-start;width: 50%;}#sk-container-id-5 div.sk-parallel-item:only-child::after {width: 0;}#sk-container-id-5 div.sk-dashed-wrapped {border: 1px dashed gray;margin: 0 0.4em 0.5em 0.4em;box-sizing: border-box;padding-bottom: 0.4em;background-color: white;}#sk-container-id-5 div.sk-label label {font-family: monospace;font-weight: bold;display: inline-block;line-height: 1.2em;}#sk-container-id-5 div.sk-label-container {text-align: center;}#sk-container-id-5 div.sk-container {/* jupyter's `normalize.less` sets `[hidden] { display: none; }` but bootstrap.min.css set `[hidden] { display: none !important; }` so we also need the `!important` here to be able to override the default hidden behavior on the sphinx rendered scikit-learn.org. See: https://github.com/scikit-learn/scikit-learn/issues/21755 */display: inline-block !important;position: relative;}#sk-container-id-5 div.sk-text-repr-fallback {display: none;}</style><div id=\"sk-container-id-5\" class=\"sk-top-container\"><div class=\"sk-text-repr-fallback\"><pre>KNeighborsClassifier()</pre><b>In a Jupyter environment, please rerun this cell to show the HTML representation or trust the notebook. <br />On GitHub, the HTML representation is unable to render, please try loading this page with nbviewer.org.</b></div><div class=\"sk-container\" hidden><div class=\"sk-item\"><div class=\"sk-estimator sk-toggleable\"><input class=\"sk-toggleable__control sk-hidden--visually\" id=\"sk-estimator-id-5\" type=\"checkbox\" checked><label for=\"sk-estimator-id-5\" class=\"sk-toggleable__label sk-toggleable__label-arrow\">KNeighborsClassifier</label><div class=\"sk-toggleable__content\"><pre>KNeighborsClassifier()</pre></div></div></div></div></div>"
      ],
      "text/plain": [
       "KNeighborsClassifier()"
      ]
     },
     "execution_count": 42,
     "metadata": {},
     "output_type": "execute_result"
    }
   ],
   "source": [
    "cf2.fit(X_train,y_train)"
   ]
  },
  {
   "cell_type": "code",
   "execution_count": 45,
   "id": "3f472042",
   "metadata": {},
   "outputs": [],
   "source": [
    "acc=cf2.score(X_test,y_test)"
   ]
  },
  {
   "cell_type": "code",
   "execution_count": 46,
   "id": "75a61eb5",
   "metadata": {},
   "outputs": [
    {
     "data": {
      "text/plain": [
       "0.696969696969697"
      ]
     },
     "execution_count": 46,
     "metadata": {},
     "output_type": "execute_result"
    }
   ],
   "source": [
    "acc"
   ]
  },
  {
   "cell_type": "code",
   "execution_count": 61,
   "id": "bc19f5f9",
   "metadata": {},
   "outputs": [
    {
     "name": "stdout",
     "output_type": "stream",
     "text": [
      "Your prediction is Very Good\n"
     ]
    }
   ],
   "source": [
    "# import pickle\n",
    "# with open(\"croprecom.pickle\",\"rb\") as test:\n",
    "#     cf=pickle.load(test)\n",
    "\n",
    "col=[\"Brightness\",\"Threshold Value\",\"Contrast\",\"Sharpness\",\"Noise\",\"Resolution\",\"Blurriness\"]\n",
    "\n",
    "# for i in range(7):\n",
    "#         s=input(f\"what is the {col[i]} = \")\n",
    "#         test.append(s)\n",
    "        \n",
    "        \n",
    "example_measures=np.array([features])\n",
    "predict=cf.predict(example_measures)\n",
    "m=['Very Good','Good','Bad','Very Bad']\n",
    "print(f\"Your prediction is {m[predict[0]]}\")\n",
    "# predict"
   ]
  },
  {
   "cell_type": "code",
   "execution_count": 47,
   "id": "eff58fb6",
   "metadata": {},
   "outputs": [],
   "source": [
    "import pickle\n",
    "with open (\"recog.pickle\",\"wb\") as f:\n",
    "    pickle.dump(cf,f)"
   ]
  },
  {
   "cell_type": "code",
   "execution_count": 57,
   "id": "d161c869",
   "metadata": {},
   "outputs": [],
   "source": [
    "import cv2\n",
    "features = extract_features(r\"C:\\Users\\Asus\\Downloads\\test111.png\")\n"
   ]
  },
  {
   "cell_type": "code",
   "execution_count": 58,
   "id": "0ddadabe",
   "metadata": {},
   "outputs": [
    {
     "data": {
      "text/plain": [
       "[246.01393099894972,\n",
       " 198.0,\n",
       " 5082.8889285218875,\n",
       " 236.9474862770743,\n",
       " 13.059508947149396,\n",
       " 50463,\n",
       " 5082.8889285218875]"
      ]
     },
     "execution_count": 58,
     "metadata": {},
     "output_type": "execute_result"
    }
   ],
   "source": [
    "features"
   ]
  },
  {
   "cell_type": "code",
   "execution_count": 63,
   "id": "1215ef3c",
   "metadata": {},
   "outputs": [],
   "source": [
    "image=cv2.imread(r\"C:\\Users\\Asus\\Downloads\\test111.png\")\n",
    "cv2.imshow(\"test\",image)\n",
    "cv2.waitKey(0)\n",
    "cv2.destroyAllWindows()"
   ]
  },
  {
   "cell_type": "code",
   "execution_count": 64,
   "id": "17f6291c",
   "metadata": {},
   "outputs": [],
   "source": [
    "def prediction(image_path):\n",
    "    features=extract_features(image_path)\n",
    "    example_measures=np.array([features])\n",
    "    predict=cf.predict(example_measures)\n",
    "    m=['Very Good','Good','Bad','Very Bad']\n",
    "    return f\"Your prediction is {m[predict[0]]}\"\n",
    "\n",
    "\n",
    "    "
   ]
  },
  {
   "cell_type": "code",
   "execution_count": 65,
   "id": "327cf1f2",
   "metadata": {},
   "outputs": [
    {
     "name": "stdout",
     "output_type": "stream",
     "text": [
      "Your prediction is Very Good\n"
     ]
    }
   ],
   "source": [
    "test=prediction(r\"C:\\Users\\Asus\\Downloads\\test111.png\")\n",
    "print(test)"
   ]
  },
  {
   "cell_type": "code",
   "execution_count": null,
   "id": "450f2560",
   "metadata": {},
   "outputs": [],
   "source": []
  }
 ],
 "metadata": {
  "kernelspec": {
   "display_name": "Python 3 (ipykernel)",
   "language": "python",
   "name": "python3"
  },
  "language_info": {
   "codemirror_mode": {
    "name": "ipython",
    "version": 3
   },
   "file_extension": ".py",
   "mimetype": "text/x-python",
   "name": "python",
   "nbconvert_exporter": "python",
   "pygments_lexer": "ipython3",
   "version": "3.10.10"
  }
 },
 "nbformat": 4,
 "nbformat_minor": 5
}
